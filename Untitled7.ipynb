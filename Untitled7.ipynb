{
  "nbformat": 4,
  "nbformat_minor": 0,
  "metadata": {
    "colab": {
      "name": "Untitled7.ipynb",
      "private_outputs": true,
      "provenance": [],
      "collapsed_sections": []
    },
    "kernelspec": {
      "name": "python3",
      "display_name": "Python 3"
    },
    "language_info": {
      "name": "python"
    },
    "accelerator": "GPU",
    "gpuClass": "standard"
  },
  "cells": [
    {
      "cell_type": "code",
      "execution_count": null,
      "metadata": {
        "id": "uUWvj7fxGumL"
      },
      "outputs": [],
      "source": [
        "# data 처리를 위한 library\n",
        "\n",
        "import os \n",
        "import pandas as pd \n",
        "import numpy as np\n",
        "from sklearn.model_selection import train_test_split\n",
        "\n",
        "# 데이터 불러오기\n",
        "data = pd.read_csv(\"otto_train.csv\")\n",
        "data.head()\n",
        "\n",
        "\n",
        "# 무의미한 변수 제거\n",
        "\n",
        "data= data.drop(['id'],axis=1)\n",
        "\n",
        "# 타겟 변수의 형변환\n",
        "\n",
        "mapping_dict = {'Class_1' : 1,\n",
        "                'Class_2' : 2,\n",
        "                'Class_3' : 3,\n",
        "                'Class_4' : 4,\n",
        "                'Class_5' : 5,\n",
        "                'Class_6' : 6,\n",
        "                'Class_7' : 7,\n",
        "                'Class_8' : 8,\n",
        "                'Class_9' : 9,}\n",
        "after_mapping_target = data['target'].apply(lambda x : mapping_dict[x])\n",
        "after_mapping_target\n",
        "\n",
        "# features/target, train/test dataset 분리\n",
        "feature_columns = list(data.columns.difference(['target']))\n",
        "X = data[feature_columns]\n",
        "y = after_mapping_target\n",
        "\n",
        "# 학습데이터와 평가데이터의 비율을 8:2 로 분할|\n",
        "train_x, test_x, train_y, test_y = train_test_split(X, y, test_size = 0.2, random_state = 42) \n",
        "\n",
        "# 데이터 개수 확인\n",
        "print(train_x.shape, test_x.shape, train_y.shape, test_y.shape) \n",
        "\n",
        "#기본적인 randomforest모형\n",
        "\n",
        "from sklearn.ensemble import RandomForestClassifier\n",
        "from sklearn.metrics import accuracy_score # 정확도 함수\n",
        "\n",
        "clf = RandomForestClassifier(n_estimators=20, max_depth=5,random_state=0)\n",
        "clf.fit(train_x,train_y)\n",
        "\n",
        "predict1 = clf.predict(test_x)\n",
        "print(accuracy_score(test_y,predict1))"
      ]
    },
    {
      "cell_type": "code",
      "source": [
        ""
      ],
      "metadata": {
        "id": "16fmkCqRI4Pa"
      },
      "execution_count": null,
      "outputs": []
    },
    {
      "cell_type": "code",
      "source": [
        "from google.colab import files\n",
        "uploaded = files.upload()"
      ],
      "metadata": {
        "id": "ecXnytyXHX5c"
      },
      "execution_count": null,
      "outputs": []
    },
    {
      "cell_type": "code",
      "source": [
        "import os \n",
        "import pandas as pd \n",
        "import numpy as np\n",
        "from sklearn.model_selection import train_test_split"
      ],
      "metadata": {
        "id": "ap5eEOQUJZOD"
      },
      "execution_count": null,
      "outputs": []
    },
    {
      "cell_type": "code",
      "source": [
        "data = pd.read_csv(\"otto_train.csv\")"
      ],
      "metadata": {
        "id": "zV1roVJfJlhU"
      },
      "execution_count": null,
      "outputs": []
    },
    {
      "cell_type": "code",
      "source": [
        "data.head()"
      ],
      "metadata": {
        "id": "PEBY7yerJpN1"
      },
      "execution_count": null,
      "outputs": []
    },
    {
      "cell_type": "code",
      "source": [
        "# 무의미한 변수 제거\n",
        "\n",
        "data= data.drop(['id'],axis=1)\n",
        "\n",
        "# 타겟 변수의 형변환\n",
        "\n",
        "mapping_dict = {'Class_1' : 1,\n",
        "                'Class_2' : 2,\n",
        "                'Class_3' : 3,\n",
        "                'Class_4' : 4,\n",
        "                'Class_5' : 5,\n",
        "                'Class_6' : 6,\n",
        "                'Class_7' : 7,\n",
        "                'Class_8' : 8,\n",
        "                'Class_9' : 9,}\n",
        "after_mapping_target = data['target'].apply(lambda x : mapping_dict[x])\n",
        "after_mapping_target\n",
        "\n",
        "# features/target, train/test dataset 분리\n",
        "feature_columns = list(data.columns.difference(['target']))\n",
        "X = data[feature_columns]\n",
        "y = after_mapping_target\n",
        "\n",
        "# 학습데이터와 평가데이터의 비율을 8:2 로 분할|\n",
        "train_x, test_x, train_y, test_y = train_test_split(X, y, test_size = 0.2, random_state = 42) \n",
        "\n",
        "# 데이터 개수 확인\n",
        "print(train_x.shape, test_x.shape, train_y.shape, test_y.shape) \n"
      ],
      "metadata": {
        "id": "S9WkmkAkJr0I"
      },
      "execution_count": null,
      "outputs": []
    },
    {
      "cell_type": "code",
      "source": [
        "import numpy as np\n",
        "import pandas as pd\n",
        "import matplotlib.pyplot as plt\n",
        "\n",
        "import tensorflow as tf\n",
        "from tensorflow import keras\n",
        "from tensorflow.keras import Sequential\n",
        "from tensorflow.keras import optimizers\n",
        "from tensorflow.keras.layers import Dense, Input\n",
        "\n",
        "import time"
      ],
      "metadata": {
        "id": "ZVbDGUhXKeGl"
      },
      "execution_count": null,
      "outputs": []
    },
    {
      "cell_type": "code",
      "source": [
        "#기본적인 randomforest모형\n",
        "\n",
        "from sklearn.ensemble import RandomForestClassifier\n",
        "from sklearn.metrics import accuracy_score # 정확도 함수\n",
        "\n",
        "model = RandomForestClassifier(n_estimators=20, max_depth=5,random_state=0)\n",
        "#n_estimators=sample 갯수\n",
        "#max_depth=깊이\n",
        "#둘다 적정 값을 찾아야함\n",
        "\n",
        "history=model.fit(train_x,train_y)\n",
        "\n",
        "\n",
        "predict1 = model.predict(test_x)\n",
        "print(accuracy_score(test_y,predict1))"
      ],
      "metadata": {
        "id": "9gXiGAfMKAmx"
      },
      "execution_count": null,
      "outputs": []
    }
  ]
}