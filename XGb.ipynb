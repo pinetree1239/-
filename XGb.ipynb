{
  "nbformat": 4,
  "nbformat_minor": 0,
  "metadata": {
    "colab": {
      "name": "XGb.ipynb",
      "private_outputs": true,
      "provenance": [],
      "collapsed_sections": []
    },
    "kernelspec": {
      "name": "python3",
      "display_name": "Python 3"
    },
    "language_info": {
      "name": "python"
    },
    "accelerator": "GPU",
    "gpuClass": "standard"
  },
  "cells": [
    {
      "cell_type": "markdown",
      "source": [
        "##모듈및 모델 설치"
      ],
      "metadata": {
        "id": "erL5IOdCjSGG"
      }
    },
    {
      "cell_type": "code",
      "execution_count": null,
      "metadata": {
        "id": "SQ6I0MWVftW1"
      },
      "outputs": [],
      "source": [
        "!pip install xgboost"
      ]
    },
    {
      "cell_type": "code",
      "source": [
        "import pandas as pd\n",
        "from sklearn.model_selection import train_test_split"
      ],
      "metadata": {
        "id": "DcsFyh3Ef5HC"
      },
      "execution_count": null,
      "outputs": []
    },
    {
      "cell_type": "code",
      "source": [
        "from xgboost import XGBRegressor"
      ],
      "metadata": {
        "id": "J8Pulhn4f8ia"
      },
      "execution_count": null,
      "outputs": []
    },
    {
      "cell_type": "code",
      "source": [
        "from sklearn.metrics import accuracy_score"
      ],
      "metadata": {
        "id": "mT5JpoNegAxw"
      },
      "execution_count": null,
      "outputs": []
    },
    {
      "cell_type": "markdown",
      "source": [
        "##데이터 설정"
      ],
      "metadata": {
        "id": "1RfdtBwSjYXj"
      }
    },
    {
      "cell_type": "code",
      "source": [
        "train = pd.read_csv('train.csv')# 데이터 파일 불러오기\n",
        "test = pd.read_csv('test.csv') # 데이터 파일 불러오기\n",
        "\n",
        "train['is_male'] = (train['Sex'] == 'male') # 성별 column one-hot 인코딩\n",
        "test['is_male'] = (test['Sex'] == 'male')\n",
        "\n",
        "train_columns = ['Pclass', 'Age', 'is_male'] # 3가지 feature 선별 가정\n",
        "test_columns = ['Pclass', 'Age', 'is_male']\n",
        "\n",
        "train['Age'] = train['Age'].fillna(train['Age'].mean()) # 나이 column 결측치 평균 대치\n",
        "test['Age'] = test['Age'].fillna(test['Age'].mean())\n",
        "\n",
        "# train, test 데이터셋 분리\n",
        "X_train, y_train = train[train_columns], train['Survived']\n",
        "X_test, = test[test_columns],\n",
        "X_train"
      ],
      "metadata": {
        "id": "hK8cxcO_ggoA"
      },
      "execution_count": null,
      "outputs": []
    },
    {
      "cell_type": "markdown",
      "source": [
        "##모델실행"
      ],
      "metadata": {
        "id": "TFk2A6tijefy"
      }
    },
    {
      "cell_type": "code",
      "source": [
        "model = XGBClassifier(n_estimators=500, learning_rate=0.2, max_depth=4, random_state = 32)\n",
        "model.fit(X_train, y_train)"
      ],
      "metadata": {
        "id": "SCdUokR-ingE"
      },
      "execution_count": null,
      "outputs": []
    },
    {
      "cell_type": "code",
      "source": [
        "y_pred = model.predict(X_test)"
      ],
      "metadata": {
        "id": "2dWN7TmcitcE"
      },
      "execution_count": null,
      "outputs": []
    },
    {
      "cell_type": "markdown",
      "source": [
        "##결과"
      ],
      "metadata": {
        "id": "ntXZEmg2jhxw"
      }
    },
    {
      "cell_type": "code",
      "source": [
        "y_pred"
      ],
      "metadata": {
        "id": "j7rLmRKsiwY_"
      },
      "execution_count": null,
      "outputs": []
    },
    {
      "cell_type": "code",
      "source": [
        ""
      ],
      "metadata": {
        "id": "yZ6D27IJjCtx"
      },
      "execution_count": null,
      "outputs": []
    }
  ]
}