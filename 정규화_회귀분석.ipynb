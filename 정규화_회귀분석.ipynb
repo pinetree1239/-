{
  "nbformat": 4,
  "nbformat_minor": 0,
  "metadata": {
    "colab": {
      "name": "정규화 회귀분석.ipynb",
      "private_outputs": true,
      "provenance": [],
      "collapsed_sections": []
    },
    "kernelspec": {
      "name": "python3",
      "display_name": "Python 3"
    },
    "language_info": {
      "name": "python"
    },
    "accelerator": "GPU",
    "gpuClass": "standard"
  },
  "cells": [
    {
      "cell_type": "markdown",
      "source": [
        "#1.Ridge\n",
        "-모든 변수 활용\n",
        "\n",
        "-이에 따라 overfitting 방지에 좋음\n",
        "\n",
        "#2.Lasso\n",
        "-최소한의 변수 활용\n",
        "\n",
        "-변수선택이 가능하지만 이에 따라 특정 변수의 계수 커짐\n",
        "\n",
        "\n",
        "#3.ElasticNet\n",
        "-예시에서는 데이터 량이 매우 작기 때문에 상대적 오류 발생\n",
        "\n",
        "-Ridge와 Lasso의 둘다반영하여 활용하였다고 한다.\n",
        "\n",
        "\n",
        "#*고려사항\n",
        "-sklearn을 쓰기에 loss를 볼수 없다...\n",
        "\n",
        "-실행하면서 참조 한번만 봐주세요..."
      ],
      "metadata": {
        "id": "HaVETkUAW7Lp"
      }
    },
    {
      "cell_type": "markdown",
      "source": [
        "##모듈 임포팅"
      ],
      "metadata": {
        "id": "sRAKy_scTUqX"
      }
    },
    {
      "cell_type": "code",
      "execution_count": null,
      "metadata": {
        "id": "knSPkV0dShcj"
      },
      "outputs": [],
      "source": [
        "from sklearn.datasets import make_regression\n",
        "from matplotlib import pyplot as plt\n",
        "import numpy as np\n",
        "from sklearn.linear_model import Ridge\n",
        "from sklearn.linear_model import Lasso\n",
        "from sklearn.linear_model import ElasticNet"
      ]
    },
    {
      "cell_type": "markdown",
      "source": [
        "##라이브러리 생성"
      ],
      "metadata": {
        "id": "Dp07RBH1UCZU"
      }
    },
    {
      "cell_type": "code",
      "source": [
        "X, y, coefficients = make_regression(\n",
        "    n_samples=50,\n",
        "    n_features=1,\n",
        "    n_informative=1,\n",
        "    n_targets=1,\n",
        "    noise=5,\n",
        "    coef=True,\n",
        "    random_state=1\n",
        ")"
      ],
      "metadata": {
        "id": "mFT7dMv1SoLw"
      },
      "execution_count": null,
      "outputs": []
    },
    {
      "cell_type": "markdown",
      "source": [
        "##하이퍼 파라미터 정하기"
      ],
      "metadata": {
        "id": "6Nrsl61PTRgM"
      }
    },
    {
      "cell_type": "code",
      "source": [
        "#normalizing 강도 결정\n",
        "#파라미터가 1=LR(선형회귀)-> 외국꺼는 1이면 선형이라 되있는데 한국어로 작성하신분은 0이면 선형회귀라 함 참조 하세요\n",
        "#파라미터가 크면 모델의 치우침이 커짐\n",
        "\n",
        "#Train set은 하이퍼 파라미터가 작으면 좋아짐\n",
        "#Test set은 하이퍼 파라미터가 특정 범위일때 좋아짐(찾아야함)\n",
        "\n",
        "\n",
        "#alpha 값 한번 조정해보세요!!\n",
        "alpha=2"
      ],
      "metadata": {
        "id": "NcoaOZH3TTth"
      },
      "execution_count": null,
      "outputs": []
    },
    {
      "cell_type": "markdown",
      "source": [
        "##단위 행렬 생성"
      ],
      "metadata": {
        "id": "GBi5B1XdU8IR"
      }
    },
    {
      "cell_type": "code",
      "source": [
        "n, m = X.shape \n",
        "I = np.identity(m)"
      ],
      "metadata": {
        "id": "7FozgeqEU_5i"
      },
      "execution_count": null,
      "outputs": []
    },
    {
      "cell_type": "markdown",
      "source": [
        "##모델 돌리기"
      ],
      "metadata": {
        "id": "GyK9E6PLWAIn"
      }
    },
    {
      "cell_type": "code",
      "source": [
        "#Ridge\n",
        "rr = Ridge(alpha)\n",
        "rr.fit(X, y)\n",
        "w = rr.coef_\n",
        "#Lasso\n",
        "kk = Lasso(alpha)\n",
        "kk.fit(X, y)\n",
        "k = kk.coef_\n",
        "#ElasticNet\n",
        "mm = ElasticNet(alpha)\n",
        "mm.fit(X, y)\n",
        "m = mm.coef_"
      ],
      "metadata": {
        "id": "EMQqFJ9VVGWn"
      },
      "execution_count": null,
      "outputs": []
    },
    {
      "cell_type": "markdown",
      "source": [
        "##정규화 회귀분석 추정치"
      ],
      "metadata": {
        "id": "lnbrsG6gVr1a"
      }
    },
    {
      "cell_type": "code",
      "source": [
        "w,k,m"
      ],
      "metadata": {
        "id": "9sBUaDpxVU1P"
      },
      "execution_count": null,
      "outputs": []
    },
    {
      "cell_type": "code",
      "source": [
        "coefficients"
      ],
      "metadata": {
        "id": "OTucNgQZVfCY"
      },
      "execution_count": null,
      "outputs": []
    },
    {
      "cell_type": "markdown",
      "source": [
        "##Ridge plot"
      ],
      "metadata": {
        "id": "9YaMSRtYXf8D"
      }
    },
    {
      "cell_type": "code",
      "source": [
        "plt.scatter(X, y)\n",
        "plt.plot(X, w*X, c='red')"
      ],
      "metadata": {
        "id": "kYcbH7-cXdmJ"
      },
      "execution_count": null,
      "outputs": []
    },
    {
      "cell_type": "markdown",
      "source": [
        "##Lasso plot"
      ],
      "metadata": {
        "id": "CF14yXmKXl_d"
      }
    },
    {
      "cell_type": "code",
      "source": [
        "plt.scatter(X, y)\n",
        "plt.plot(X, k*X, c='red')"
      ],
      "metadata": {
        "id": "3WrSDx3LXo_p"
      },
      "execution_count": null,
      "outputs": []
    },
    {
      "cell_type": "markdown",
      "source": [
        "##ElasticNet plot"
      ],
      "metadata": {
        "id": "qJDEpbxvXtX5"
      }
    },
    {
      "cell_type": "code",
      "source": [
        "plt.scatter(X, y)\n",
        "plt.plot(X, m*X, c='red')"
      ],
      "metadata": {
        "id": "WNgygVueXvo-"
      },
      "execution_count": null,
      "outputs": []
    }
  ]
}